{
  "nbformat": 4,
  "nbformat_minor": 0,
  "metadata": {
    "colab": {
      "name": "URLtoGDRIVE.ipynb",
      "provenance": [],
      "collapsed_sections": []
    },
    "kernelspec": {
      "name": "python3",
      "display_name": "Python 3"
    }
  },
  "cells": [
    {
      "cell_type": "markdown",
      "metadata": {
        "id": "JU-wSaUX9aqF",
        "colab_type": "text"
      },
      "source": [
        "## Direct Downloadable Link to Google or Shared Drive.\n",
        "----\n",
        "#### Basic Script: Using Python request Method - inspiration from geeksforgeeks, modified by ***github.com/shubx***"
      ]
    },
    {
      "cell_type": "markdown",
      "metadata": {
        "id": "OMTYQDlY-B61",
        "colab_type": "text"
      },
      "source": [
        "### 1. Mound Google Drive \n",
        "---\n",
        "#### Follow the authorization link and copy paste 'auth code' to input box."
      ]
    },
    {
      "cell_type": "code",
      "metadata": {
        "id": "vzT0nVSy9RVf",
        "colab_type": "code",
        "colab": {}
      },
      "source": [
        "from google.colab import drive \n",
        "drive.mount('/content/gdrive') "
      ],
      "execution_count": null,
      "outputs": []
    },
    {
      "cell_type": "markdown",
      "metadata": {
        "id": "Zcoad3Ih-R1h",
        "colab_type": "text"
      },
      "source": [
        "## 2. For Downloading in **MY DRIVE**.\n",
        "---\n",
        "##### ***IMPORTANT! You needed to give file name and exact extention as of downloading file. ***\n",
        "##### **Enter the File Path + extention, Then only run the cell.**"
      ]
    },
    {
      "cell_type": "code",
      "metadata": {
        "id": "N63w-4HC-Pcu",
        "colab_type": "code",
        "colab": {}
      },
      "source": [
        "import requests \n",
        "file_url = input(\"Please Inpu direct link here: \"\"\")\n",
        "\t\n",
        "r = requests.get(file_url, stream = True) \n",
        "\n",
        "# if file is zipped then, use filename.zip, of rar, filename.rar\n",
        "# put your shared drive name in '--shared drive name--' (without dashes)\n",
        "with open(\"/content/drive/My Drive/FOLDER NAME/file_name.extention\", \"wb\") as file: \n",
        "\tfor block in r.iter_content(chunk_size = 1024): \n",
        "\t\tif block: \n",
        "\t\t\tfile.write(block) \n"
      ],
      "execution_count": null,
      "outputs": []
    },
    {
      "cell_type": "markdown",
      "metadata": {
        "id": "_TZuHvcTw7X5",
        "colab_type": "text"
      },
      "source": [
        "## 2. For Downloading in **SHARED DRIVE**."
      ]
    },
    {
      "cell_type": "code",
      "metadata": {
        "id": "W22px1tDw7G0",
        "colab_type": "code",
        "colab": {}
      },
      "source": [
        "import requests \n",
        "file_url = input(\"Please Inpu direct link here: \"\"\")\n",
        "\t\n",
        "r = requests.get(file_url, stream = True) \n",
        "\n",
        "# if file is zipped then, use filename.zip, of rar, filename.rar\n",
        "# put your shared drive name in '--shared drive name--' (without dashes)\n",
        "with open(\"/content/drive/Shared drives/--shared drive name--/--file_name_with_extention--\", \"wb\") as file: \n",
        "\tfor block in r.iter_content(chunk_size = 1024): \n",
        "\t\tif block: \n",
        "\t\t\tfile.write(block)"
      ],
      "execution_count": null,
      "outputs": []
    },
    {
      "cell_type": "markdown",
      "metadata": {
        "id": "eTObOKQdwFo-",
        "colab_type": "text"
      },
      "source": [
        "#### For larger files to download, wait till the cell is runnning. for files within 1GB, are usually downloaded in 2 - 5 minutes.\n",
        "##### this is a basic script. follow repo for updates and advancements."
      ]
    }
  ]
}